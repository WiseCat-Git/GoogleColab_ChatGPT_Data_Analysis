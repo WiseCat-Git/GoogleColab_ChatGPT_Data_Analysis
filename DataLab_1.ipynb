{
  "nbformat": 4,
  "nbformat_minor": 0,
  "metadata": {
    "colab": {
      "provenance": [],
      "authorship_tag": "ABX9TyNaPH5YK+NRI3DCC2tWy/0y",
      "include_colab_link": true
    },
    "kernelspec": {
      "name": "python3",
      "display_name": "Python 3"
    },
    "language_info": {
      "name": "python"
    }
  },
  "cells": [
    {
      "cell_type": "markdown",
      "metadata": {
        "id": "view-in-github",
        "colab_type": "text"
      },
      "source": [
        "<a href=\"https://colab.research.google.com/github/WiseCat-Git/GoogleColab_ChatGPT_Data_Analysis/blob/main/DataLab_1.ipynb\" target=\"_parent\"><img src=\"https://colab.research.google.com/assets/colab-badge.svg\" alt=\"Open In Colab\"/></a>"
      ]
    },
    {
      "cell_type": "code",
      "execution_count": null,
      "metadata": {
        "colab": {
          "base_uri": "https://localhost:8080/"
        },
        "id": "528Qfv7G4m48",
        "outputId": "ebf142eb-64a2-495f-f0d5-d1d436ec6a1b"
      },
      "outputs": [
        {
          "output_type": "stream",
          "name": "stdout",
          "text": [
            "   respondent_id  collector_id              start_date  \\\n",
            "0   118284756609     450323210  04/02/2023 06:40:00 AM   \n",
            "1   118284744351     450323210  04/02/2023 06:01:42 AM   \n",
            "2   118284735922     450323210  04/02/2023 05:35:29 AM   \n",
            "3   118284655854     450323210  04/02/2023 01:46:22 AM   \n",
            "4   118284646441     450323210  04/02/2023 01:22:39 AM   \n",
            "\n",
            "                 end_date  email  first_name  last_name  custom_data1    age  \\\n",
            "0  04/02/2023 06:42:21 AM    NaN         NaN        NaN           NaN  25-35   \n",
            "1  04/02/2023 06:03:19 AM    NaN         NaN        NaN           NaN  18-24   \n",
            "2  04/02/2023 05:37:38 AM    NaN         NaN        NaN           NaN  45-54   \n",
            "3  04/02/2023 01:48:49 AM    NaN         NaN        NaN           NaN  35-44   \n",
            "4  04/02/2023 01:25:43 AM    NaN         NaN        NaN           NaN  45-54   \n",
            "\n",
            "       gender  ... experience_midjourney interest_generative_ai  \\\n",
            "0        Male  ...            Never used                    NaN   \n",
            "1        Male  ...            Never used                    5.0   \n",
            "2        Male  ...            Never used                    4.0   \n",
            "3        Male  ...            Never used                    5.0   \n",
            "4  Non-binary  ...            Never used                    5.0   \n",
            "\n",
            "  benefits_data_analysis    benefits_time_saving benefits_content_creation  \\\n",
            "0          Data analysis                     NaN                       NaN   \n",
            "1          Data analysis  Time-saving automation          Content creation   \n",
            "2                    NaN  Time-saving automation          Content creation   \n",
            "3          Data analysis  Time-saving automation                       NaN   \n",
            "4          Data analysis                     NaN          Content creation   \n",
            "\n",
            "  benefits_personal_branding benefits_marketing benefits_other  \\\n",
            "0          Personal branding          Marketing            NaN   \n",
            "1          Personal branding          Marketing            NaN   \n",
            "2                        NaN                NaN            NaN   \n",
            "3                        NaN                NaN            NaN   \n",
            "4                        NaN          Marketing            NaN   \n",
            "\n",
            "                              course_interest course_interest_reason  \n",
            "0  Maybe. Depending on the content and format                    NaN  \n",
            "1                                         Yes                    NaN  \n",
            "2                                         Yes                    NaN  \n",
            "3                                         Yes                    NaN  \n",
            "4                                         Yes                    NaN  \n",
            "\n",
            "[5 rows x 43 columns]\n",
            "(352, 43)\n",
            "respondent_id                   int64\n",
            "collector_id                    int64\n",
            "start_date                     object\n",
            "end_date                       object\n",
            "email                         float64\n",
            "first_name                    float64\n",
            "last_name                     float64\n",
            "custom_data1                  float64\n",
            "age                            object\n",
            "gender                         object\n",
            "education_level                object\n",
            "education_other                object\n",
            "skills_ml                      object\n",
            "skills_dl_ai                   object\n",
            "skills_data_vis                object\n",
            "skills_stat_analysis           object\n",
            "skills_big_data                object\n",
            "skills_bi                      object\n",
            "skills_data_prep               object\n",
            "skills_nlp                     object\n",
            "skills_iot                     object\n",
            "skills_cv                      object\n",
            "skills_cloud                   object\n",
            "skills_blockchain              object\n",
            "skills_rpa                     object\n",
            "skills_other                   object\n",
            "familiarity_generative_ai      object\n",
            "impact_life                    object\n",
            "impact_work                    object\n",
            "impact_hobbies                 object\n",
            "experience_chatgpt             object\n",
            "experience_gpt_api             object\n",
            "experience_dalle               object\n",
            "experience_midjourney          object\n",
            "interest_generative_ai        float64\n",
            "benefits_data_analysis         object\n",
            "benefits_time_saving           object\n",
            "benefits_content_creation      object\n",
            "benefits_personal_branding     object\n",
            "benefits_marketing             object\n",
            "benefits_other                 object\n",
            "course_interest                object\n",
            "course_interest_reason         object\n",
            "dtype: object\n",
            "<class 'pandas.core.frame.DataFrame'>\n",
            "RangeIndex: 352 entries, 0 to 351\n",
            "Data columns (total 43 columns):\n",
            " #   Column                      Non-Null Count  Dtype  \n",
            "---  ------                      --------------  -----  \n",
            " 0   respondent_id               352 non-null    int64  \n",
            " 1   collector_id                352 non-null    int64  \n",
            " 2   start_date                  352 non-null    object \n",
            " 3   end_date                    352 non-null    object \n",
            " 4   email                       0 non-null      float64\n",
            " 5   first_name                  0 non-null      float64\n",
            " 6   last_name                   0 non-null      float64\n",
            " 7   custom_data1                0 non-null      float64\n",
            " 8   age                         351 non-null    object \n",
            " 9   gender                      350 non-null    object \n",
            " 10  education_level             347 non-null    object \n",
            " 11  education_other             18 non-null     object \n",
            " 12  skills_ml                   330 non-null    object \n",
            " 13  skills_dl_ai                323 non-null    object \n",
            " 14  skills_data_vis             326 non-null    object \n",
            " 15  skills_stat_analysis        330 non-null    object \n",
            " 16  skills_big_data             321 non-null    object \n",
            " 17  skills_bi                   326 non-null    object \n",
            " 18  skills_data_prep            325 non-null    object \n",
            " 19  skills_nlp                  312 non-null    object \n",
            " 20  skills_iot                  316 non-null    object \n",
            " 21  skills_cv                   312 non-null    object \n",
            " 22  skills_cloud                322 non-null    object \n",
            " 23  skills_blockchain           319 non-null    object \n",
            " 24  skills_rpa                  314 non-null    object \n",
            " 25  skills_other                18 non-null     object \n",
            " 26  familiarity_generative_ai   350 non-null    object \n",
            " 27  impact_life                 350 non-null    object \n",
            " 28  impact_work                 350 non-null    object \n",
            " 29  impact_hobbies              350 non-null    object \n",
            " 30  experience_chatgpt          350 non-null    object \n",
            " 31  experience_gpt_api          350 non-null    object \n",
            " 32  experience_dalle            350 non-null    object \n",
            " 33  experience_midjourney       350 non-null    object \n",
            " 34  interest_generative_ai      340 non-null    float64\n",
            " 35  benefits_data_analysis      260 non-null    object \n",
            " 36  benefits_time_saving        265 non-null    object \n",
            " 37  benefits_content_creation   215 non-null    object \n",
            " 38  benefits_personal_branding  112 non-null    object \n",
            " 39  benefits_marketing          139 non-null    object \n",
            " 40  benefits_other              52 non-null     object \n",
            " 41  course_interest             351 non-null    object \n",
            " 42  course_interest_reason      33 non-null     object \n",
            "dtypes: float64(5), int64(2), object(36)\n",
            "memory usage: 118.4+ KB\n",
            "None\n"
          ]
        }
      ],
      "source": [
        "import pandas as pd\n",
        "\n",
        "df = pd.read_csv('survey_1header_short.csv')\n",
        "\n",
        "print(df.head())\n",
        "print(df.shape)\n",
        "print(df.dtypes)\n",
        "print(df.info())"
      ]
    },
    {
      "cell_type": "code",
      "source": [
        "df = df.drop(['email','first_name','last_name','custom_data1'], axis = 1)"
      ],
      "metadata": {
        "id": "0SgKzzStXr1h"
      },
      "execution_count": null,
      "outputs": []
    },
    {
      "cell_type": "code",
      "source": [
        "df.to_csv('survey_1header_short_cleaned.csv', index=False)"
      ],
      "metadata": {
        "id": "Wq_fuHYubfi9"
      },
      "execution_count": null,
      "outputs": []
    },
    {
      "cell_type": "code",
      "source": [
        "import pandas as pd\n",
        "\n",
        "df = pd.read_csv('survey_1header_short_cleaned.csv')\n",
        "\n",
        "print(df.dtypes)"
      ],
      "metadata": {
        "colab": {
          "base_uri": "https://localhost:8080/"
        },
        "id": "Fiu10I3PcR5G",
        "outputId": "9b467beb-56d4-4c14-db29-27620ddbfe46"
      },
      "execution_count": null,
      "outputs": [
        {
          "output_type": "stream",
          "name": "stdout",
          "text": [
            "respondent_id                   int64\n",
            "collector_id                    int64\n",
            "start_date                     object\n",
            "end_date                       object\n",
            "age                            object\n",
            "gender                         object\n",
            "education_level                object\n",
            "education_other                object\n",
            "skills_ml                      object\n",
            "skills_dl_ai                   object\n",
            "skills_data_vis                object\n",
            "skills_stat_analysis           object\n",
            "skills_big_data                object\n",
            "skills_bi                      object\n",
            "skills_data_prep               object\n",
            "skills_nlp                     object\n",
            "skills_iot                     object\n",
            "skills_cv                      object\n",
            "skills_cloud                   object\n",
            "skills_blockchain              object\n",
            "skills_rpa                     object\n",
            "skills_other                   object\n",
            "familiarity_generative_ai      object\n",
            "impact_life                    object\n",
            "impact_work                    object\n",
            "impact_hobbies                 object\n",
            "experience_chatgpt             object\n",
            "experience_gpt_api             object\n",
            "experience_dalle               object\n",
            "experience_midjourney          object\n",
            "interest_generative_ai        float64\n",
            "benefits_data_analysis         object\n",
            "benefits_time_saving           object\n",
            "benefits_content_creation      object\n",
            "benefits_personal_branding     object\n",
            "benefits_marketing             object\n",
            "benefits_other                 object\n",
            "course_interest                object\n",
            "course_interest_reason         object\n",
            "dtype: object\n"
          ]
        }
      ]
    },
    {
      "cell_type": "code",
      "source": [
        "import pandas as pd\n",
        "\n",
        "df = pd.read_csv('survey_1header_short_cleaned.csv')\n",
        "\n",
        "# Check for duplicates and drop them\n",
        "\n",
        "df.drop_duplicates(inplace = True)\n",
        "\n",
        "# Write the updated data to file\n",
        "\n",
        "df.to_csv('survey_1header_short_cleaned_nodups.csv', index = False)"
      ],
      "metadata": {
        "id": "uzts4qX5c0Va"
      },
      "execution_count": null,
      "outputs": []
    }
  ]
}