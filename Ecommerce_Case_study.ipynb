{
  "nbformat": 4,
  "nbformat_minor": 0,
  "metadata": {
    "colab": {
      "provenance": [],
      "authorship_tag": "ABX9TyOtWvMlw/pKK5EqyUM8VzO+",
      "include_colab_link": true
    },
    "kernelspec": {
      "name": "python3",
      "display_name": "Python 3"
    },
    "language_info": {
      "name": "python"
    }
  },
  "cells": [
    {
      "cell_type": "markdown",
      "metadata": {
        "id": "view-in-github",
        "colab_type": "text"
      },
      "source": [
        "<a href=\"https://colab.research.google.com/github/WiseCat-Git/GoogleColab_ChatGPT_Data_Analysis/blob/main/Ecommerce_Case_study.ipynb\" target=\"_parent\"><img src=\"https://colab.research.google.com/assets/colab-badge.svg\" alt=\"Open In Colab\"/></a>"
      ]
    },
    {
      "cell_type": "code",
      "execution_count": null,
      "metadata": {
        "id": "352RIoiAdB1r"
      },
      "outputs": [],
      "source": [
        "# Load the Data Frame\n",
        "import pandas as pd\n",
        "from google.colab import drive\n",
        "\n",
        "# Mount Google Drive\n",
        "drive.mount('/content/drive')\n",
        "\n",
        "# Define the path to the file in your drive\n",
        "file_path = '/content/drive/My Drive/yourfile.csv'\n",
        "\n",
        "# Load the data into a DataFrame\n",
        "df = pd.read_csv('yourfile.csv or file path')\n",
        "\n",
        "# Convert the 'event_time' column to datetime\n",
        "df['event_time'] = pd.to_datetime(df['event_time'], errors='coerce', utc=True)\n",
        "\n",
        "#Filter only purchase events\n",
        "purchases = df[df['event_type'] == 'purchase']\n",
        "\n",
        "#Find the most recent purchase for each user:\n",
        "recent_purchases = purchases.groupby('user_id')['event_time'].max()\n",
        "\n",
        "#Determine the churned users, i.e., those whose most recent purchase was more\n",
        "#than 30 days ago from a given reference date. For example,\n",
        "#if we consider the reference date as the maximum 'event_time' in the dataset:\n",
        "reference_date = df['event_time'].max()\n",
        "churned_users = recent_purchases[recent_purchases < (reference_date - pd.Timedelta(days=30))].index\n",
        "\n",
        "#Now, churned_users is a list of user IDs who haven't made a purchase\n",
        "#within the last 30 days from the reference date. Note that the reference\n",
        "#date in this context is the latest timestamp in the data.\n",
        "#his approach assumes that you have a snapshot of the data up to the current moment\n",
        "#and you're looking at churn as of this moment.\n",
        "\n",
        "print(churned_users)\n"
      ]
    }
  ]
}